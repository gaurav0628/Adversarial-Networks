{
 "cells": [
  {
   "cell_type": "code",
   "execution_count": null,
   "metadata": {},
   "outputs": [],
   "source": [
    "#This notebook contains code for the Variational Auto-Encoder.\n",
    "#To run the program run all the cells in the order they are written."
   ]
  },
  {
   "cell_type": "code",
   "execution_count": null,
   "metadata": {},
   "outputs": [],
   "source": [
    "import tensorflow.compat.v1 as tf\n",
    "tf.compat.v1.disable_eager_execution()\n",
    "import tensorflow.keras\n",
    "from tensorflow.keras import layers\n",
    "from tensorflow.keras.models import Model\n",
    "from tensorflow.keras import metrics\n",
    "from tensorflow.keras import backend as K \n",
    "from tensorflow.keras.datasets import mnist\n",
    "import pandas as pd\n",
    "import numpy as np\n",
    "import matplotlib\n",
    "import matplotlib.pyplot as plt\n",
    "import matplotlib.patches as mpatches\n",
    "from scipy.stats import norm"
   ]
  },
  {
   "cell_type": "code",
   "execution_count": null,
   "metadata": {},
   "outputs": [],
   "source": [
    "# Load and Transform Data\n",
    "np.random.seed(1000)\n",
    "train_orig = pd.read_csv('train.csv')\n",
    "test_orig = pd.read_csv('test.csv')\n",
    "test_orig['label'] = 11\n",
    "testCols = test_orig.columns.tolist()\n",
    "testCols = testCols[-1:] + testCols[:-1]\n",
    "test_orig = test_orig[testCols]\n",
    "complete = pd.concat([train_orig, test_orig], ignore_index = True)\n",
    "valid = complete.sample(n = 5000, random_state = 555)\n",
    "train = complete.loc[~complete.index.isin(valid.index)]\n",
    "X_train = train.drop(['label'], axis = 1)\n",
    "X_valid = valid.drop(['label'], axis = 1)\n",
    "X_train = X_train.astype('float32') / 255.\n",
    "X_train = X_train.values.reshape(-1,28,28,1)\n",
    "X_valid = X_valid.astype('float32') / 255.\n",
    "X_valid = X_valid.values.reshape(-1,28,28,1)\n",
    "y_train = train['label']\n",
    "y_valid = valid['label']"
   ]
  },
  {
   "cell_type": "code",
   "execution_count": null,
   "metadata": {},
   "outputs": [],
   "source": [
    "# Encoder model\n",
    "img_shape = (28, 28, 1)\n",
    "batch_size = 16\n",
    "latent_dim = 2  \n",
    "input_img = tensorflow.keras.Input(shape=img_shape)\n",
    "x = layers.Conv2D(32, 3, padding='same', activation='relu')(input_img)\n",
    "x = layers.Conv2D(64, 3, padding='same', activation='relu',strides=(2, 2))(x)\n",
    "x = layers.Conv2D(64, 3, padding='same', activation='relu')(x)\n",
    "x = layers.Conv2D(64, 3, padding='same', activation='relu')(x)\n",
    "shape_before_flattening = K.int_shape(x)\n",
    "x = layers.Flatten()(x)\n",
    "x = layers.Dense(32, activation='relu')(x)\n",
    "z_mu = layers.Dense(latent_dim)(x)\n",
    "z_log_sigma = layers.Dense(latent_dim)(x)"
   ]
  },
  {
   "cell_type": "code",
   "execution_count": null,
   "metadata": {},
   "outputs": [],
   "source": [
    "# Sampling function and Decoder Model\n",
    "def sampling(args):\n",
    "    z_mu, z_log_sigma = args\n",
    "    epsilon = K.random_normal(shape=(K.shape(z_mu)[0], latent_dim), mean=0., stddev=1.)\n",
    "    return z_mu + K.exp(z_log_sigma) * epsilon\n",
    "z = layers.Lambda(sampling)([z_mu, z_log_sigma])\n",
    "decoder_input = layers.Input(K.int_shape(z)[1:])\n",
    "x = layers.Dense(np.prod(shape_before_flattening[1:]),activation='relu')(decoder_input)\n",
    "x = layers.Reshape(shape_before_flattening[1:])(x)\n",
    "x = layers.Conv2DTranspose(32, 3, padding='same', activation='relu', strides=(2, 2))(x)\n",
    "x = layers.Conv2D(1, 3, padding='same', activation='sigmoid')(x)\n",
    "decoder = Model(decoder_input, x)\n",
    "z_decoded = decoder(z)"
   ]
  },
  {
   "cell_type": "code",
   "execution_count": null,
   "metadata": {},
   "outputs": [],
   "source": [
    "#Plotting figures\n",
    "plt.figure(1)\n",
    "plt.subplot(11)\n",
    "plt.subplot(12)\n",
    "plt.imshow(X_train[13][:,:,0])\n",
    "plt.subplot(14)\n",
    "plt.imshow(X_train[690][:,:,0])\n",
    "plt.imshow(X_train[2375][:,:,0])\n",
    "plt.subplot(15)\n",
    "plt.imshow(X_train[42013][:,:,0])\n",
    "plt.show()"
   ]
  },
  {
   "cell_type": "code",
   "execution_count": null,
   "metadata": {},
   "outputs": [],
   "source": [
    "#Applying loss function on a custom layer\n",
    "class LossLayer(tensorflow.keras.layers.Layer):\n",
    "    def vae_loss(self, x, z_decoded):\n",
    "        x = K.flatten(x)\n",
    "        z_decoded = K.flatten(z_decoded)\n",
    "        xent_loss = tensorflow.keras.metrics.binary_crossentropy(x, z_decoded)\n",
    "        kl_loss = -5e-4 * K.mean(1 + z_log_sigma - K.square(z_mu) - K.exp(z_log_sigma), axis=-1)\n",
    "        return K.mean(xent_loss + kl_loss)\n",
    "\n",
    "    def call(self, inputs):\n",
    "        x = inputs[0]\n",
    "        z_decoded = inputs[1]\n",
    "        loss = self.vae_loss(x, z_decoded)\n",
    "        self.add_loss(loss, inputs=inputs)\n",
    "        return x"
   ]
  },
  {
   "cell_type": "code",
   "execution_count": null,
   "metadata": {},
   "outputs": [],
   "source": [
    "y = LossLayer()([input_img, z_decoded])\n",
    "vae = Model(input_img, y)\n",
    "vae.compile(optimizer='adam', loss=None, experimental_run_tf_function=False)\n",
    "vae.summary()\n",
    "vae.fit(x=X_train, y=None, shuffle=True, epochs=30, batch_size=batch_size, validation_data=(X_valid, None))\n",
    "valid_noTest = valid[valid['label'] != 11]\n",
    "X_valid_n = valid_noTest.drop('label', axis=1)\n",
    "y_valid_n = valid_noTest['label']\n",
    "X_valid_n = X_valid_n.astype('float32') / 255.\n",
    "X_valid_n = X_valid_n.values.reshape(-1,28,28,1)\n",
    "encoder = Model(input_img, z_mu)\n",
    "x_valid_n_encoded = encoder.predict(X_valid_n, batch_size=batch_size)\n",
    "plt.figure(figsize=(10, 10))"
   ]
  },
  {
   "cell_type": "code",
   "execution_count": null,
   "metadata": {},
   "outputs": [],
   "source": [
    "plt.scatter(x_valid_n_encoded[:, 0], x_valid_n_encoded[:, 1], c=y_valid_n, cmap='brg')\n",
    "plt.colorbar()\n",
    "plt.show()\n",
    "custom_cmap = matplotlib.cm.get_cmap('brg')\n",
    "custom_cmap.set_over('black')\n",
    "x_valid_encoded = encoder.predict(X_valid, batch_size=batch_size)\n",
    "plt.figure(figsize=(10, 10))\n",
    "gray_marker = mpatches.Circle(4,radius=0.1,color='black', label='Including Test Data')\n",
    "plt.legend(handles=[gray_marker], loc = 'best')\n",
    "plt.scatter(x_valid_encoded[:, 0], x_valid_encoded[:, 1], c=y_valid, cmap=custom_cmap)\n",
    "plt.clim(0, 9)\n",
    "plt.colorbar()\n",
    "plt.show()"
   ]
  }
 ],
 "metadata": {
  "kernelspec": {
   "display_name": "Python 3",
   "language": "python",
   "name": "python3"
  },
  "language_info": {
   "codemirror_mode": {
    "name": "ipython",
    "version": 3
   },
   "file_extension": ".py",
   "mimetype": "text/x-python",
   "name": "python",
   "nbconvert_exporter": "python",
   "pygments_lexer": "ipython3",
   "version": "3.8.3"
  }
 },
 "nbformat": 4,
 "nbformat_minor": 2
}
